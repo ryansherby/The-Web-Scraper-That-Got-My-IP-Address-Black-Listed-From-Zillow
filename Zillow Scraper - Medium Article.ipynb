{
 "cells": [
  {
   "attachments": {},
   "cell_type": "markdown",
   "metadata": {},
   "source": [
    "# The Setup"
   ]
  },
  {
   "cell_type": "code",
   "execution_count": 5,
   "metadata": {},
   "outputs": [],
   "source": [
    "import os\n",
    "\n",
    "import re\n",
    "import datetime as dt\n",
    "import json\n",
    "\n",
    "import requests\n",
    "from bs4 import BeautifulSoup\n",
    "import numpy as np\n",
    "import pandas as pd\n",
    "\n",
    "import seaborn as sns\n",
    "import matplotlib.pyplot as plt\n"
   ]
  },
  {
   "cell_type": "code",
   "execution_count": 32,
   "metadata": {},
   "outputs": [],
   "source": [
    "#config.py\n",
    "\n",
    "OW_API_URL=\"http://api.openweathermap.org/geo/1.0/zip?zip={zip},US&appid={api_key}\"\n",
    "API_KEY= os.getenv(\"OPENWEATHER_KEY\") # <YOUR_API_KEY>\n",
    "\n",
    "ZILLOW_HOMES_URL=\"https://www.zillow.com/{city}-{state}/{property_type}/{page}_p\"\n",
    "\n",
    "HOME_HEADER_CLASS=(\"div\",{\"class\":\"StyledPropertyCardDataWrapper-c11n-8-85-1__sc-1omp4c3-0 jVBMsP property-card-data\"})\n",
    "HOME_PAGE_CLASS=(\"span\",{\"class\":\"Text-c11n-8-85-1__sc-aiai24-0 bEkett\"})\n",
    "HOME_PRICE_CLASS=(\"div\",{\"class\":\"StyledPropertyCardDataArea-c11n-8-85-1__sc-yipmu-0 bqsBln\"})\n",
    "HOME_SPACE_CLASS=(\"ul\",{\"class\":\"StyledPropertyCardHomeDetailsList-c11n-8-85-1__sc-1xvdaej-0 dmDolk\"})\n",
    "HOME_ADDRESS_CLASS=(\"a\",{\"class\":\"StyledPropertyCardDataArea-c11n-8-85-1__sc-yipmu-0 gdfTyO property-card-link\"})\n",
    "\n",
    "LIST_ITEM_CLASS=\"li\"\n",
    "LIST_ITEM_IDENTIFIER=\"abbr\"\n",
    "\n",
    "ERROR_404_CONSTANT='zillow-error-page'\n",
    "BOT_CAUGHT_CONSTANT='robots'"
   ]
  },
  {
   "cell_type": "code",
   "execution_count": 33,
   "metadata": {},
   "outputs": [],
   "source": [
    "API_KEY"
   ]
  },
  {
   "cell_type": "code",
   "execution_count": 8,
   "metadata": {},
   "outputs": [],
   "source": [
    "city_states=[('Houston','TX')]"
   ]
  },
  {
   "cell_type": "code",
   "execution_count": 9,
   "metadata": {},
   "outputs": [],
   "source": [
    "#main.py\n",
    "\n",
    "l=[]\n",
    "h={}\n",
    "\n",
    "for city, state in city_states:  \n",
    "    while True:\n",
    "        num_var=np.random.randint(100,1000)\n",
    "        num_var3=np.random.randint(10,100)\n",
    "        num_var2=num_var3%10\n",
    "        num_var4=np.random.randint(1000,10000)\n",
    "        num_var5=np.random.randint(100,1000)\n",
    "\n",
    "        _header={\"User-Agent\": f\"Mozilla/5.0 (X11; Linux x86_64) AppleWebKit/{num_var5}.36 (KHTML, like Gecko) Chrome/51.{num_var2}.2704.{num_var} Safari/537.{num_var3} OPR/38.0.{num_var4}.41\"}\n",
    "        _page_req=requests.get(ZILLOW_HOMES_URL.format(city=city.lower(),\n",
    "                                                        state=state.lower(),\n",
    "                                                        property_type='homes',\n",
    "                                                        page='2'),headers=_header)\n",
    "\n",
    "        _page_text = _page_req.text\n",
    "\n",
    "        _page_soup=BeautifulSoup(_page_text,'html.parser')\n",
    "\n",
    "        try:\n",
    "            if _page_soup.find('div')['id']==ERROR_404_CONSTANT:\n",
    "                break\n",
    "        except:\n",
    "            pass\n",
    "        \n",
    "        if _page_soup.find('meta')['name']==BOT_CAUGHT_CONSTANT:\n",
    "            continue\n",
    "        else:\n",
    "            if _page_soup.find(HOME_PAGE_CLASS[0],HOME_PAGE_CLASS[1]) == None:\n",
    "                _page_max=1\n",
    "            else:\n",
    "                _target_text=_page_soup.find(HOME_PAGE_CLASS[0],HOME_PAGE_CLASS[1]).text\n",
    "\n",
    "                _page_max=int(re.findall('(\\d+)',_target_text)[1])\n",
    "            break\n",
    "\n",
    "\n",
    "    for p_idx in range(2,(_page_max+2)):\n",
    "        try:\n",
    "            if _page_soup.find('div')['id']==ERROR_404_CONSTANT:\n",
    "                break\n",
    "        except:\n",
    "                pass\n",
    "            \n",
    "        while True:\n",
    "            num_var=np.random.randint(100,1000)\n",
    "            num_var3=np.random.randint(10,100)\n",
    "            num_var2=num_var3%10\n",
    "            num_var4=np.random.randint(1000,10000)\n",
    "            num_var5=np.random.randint(100,1000)\n",
    "\n",
    "            header={\"User-Agent\": f\"Mozilla/5.0 (X11; Linux x86_64) AppleWebKit/{num_var5}.36 (KHTML, like Gecko) Chrome/51.{num_var2}.2704.{num_var} Safari/537.{num_var3} OPR/38.0.{num_var4}.41\"}\n",
    "            req = requests.get(ZILLOW_HOMES_URL.format(city=city.lower(),\n",
    "                                                        state=state.lower(),\n",
    "                                                        property_type='homes',\n",
    "                                                        page=p_idx),headers=header)\n",
    "            \n",
    "            r_text=req.text\n",
    "\n",
    "\n",
    "            soup = BeautifulSoup(r_text,'html.parser')\n",
    "\n",
    "\n",
    "            if soup.find('meta')['name']==BOT_CAUGHT_CONSTANT:\n",
    "                continue\n",
    "\n",
    "            else:\n",
    "\n",
    "                homes = soup.find_all(HOME_HEADER_CLASS[0],HOME_HEADER_CLASS[1])\n",
    "\n",
    "                for home in homes:\n",
    "\n",
    "                    p_list=home.find(HOME_PRICE_CLASS[0],HOME_PRICE_CLASS[1]).text\n",
    "                    try:\n",
    "                        h['price']=int(\"\".join(re.findall('(\\d+)',p_list)))\n",
    "                    except:\n",
    "                        h['price']=None\n",
    "\n",
    "\n",
    "                    s_list=home.find(HOME_SPACE_CLASS[0],HOME_SPACE_CLASS[1])\n",
    "                    try:\n",
    "                        s_list_list = s_list.find_all('li')\n",
    "                        for li_idx in range(len(s_list_list)):\n",
    "                            li_identifier = s_list_list[li_idx].find('abbr')  \n",
    "                            try:\n",
    "                                if re.findall(\"(bd)\", li_identifier.text)[0] == 'bd': \n",
    "                                    h['bd'] = int(\"\".join(re.findall('(\\d+)', s_list_list[li_idx].text)))\n",
    "                            except:\n",
    "                                pass\n",
    "                        \n",
    "                            try:\n",
    "                                if re.findall(\"(ba)\", li_identifier.text)[0] == 'ba':  \n",
    "                                    h['ba'] = int(\"\".join(re.findall('(\\d+)', s_list_list[li_idx].text)))\n",
    "                            except:\n",
    "                                pass\n",
    "                            \n",
    "                            try:\n",
    "                                if re.findall(\"(sqft)\", li_identifier.text)[0] == 'sqft':\n",
    "                                    h['sqft'] = int(\"\".join(re.findall('(\\d+)', s_list_list[li_idx].text)))\n",
    "                            except:\n",
    "                                pass\n",
    "                    except:\n",
    "                        pass\n",
    "\n",
    "\n",
    "                    a_list=home.find(HOME_ADDRESS_CLASS[0],HOME_ADDRESS_CLASS[1]).text.split(\",\")\n",
    "                    try:\n",
    "                        h['address']=a_list[0].strip()\n",
    "                    except:\n",
    "                        h['address']=None\n",
    "                    try:\n",
    "                        h['city']=a_list[1].strip()\n",
    "                    except:\n",
    "                        h['city']=None\n",
    "                    try:\n",
    "                        h['state']=a_list[2].strip().split()[0]\n",
    "                    except:\n",
    "                        h['state']=None\n",
    "                    try:\n",
    "                        h['zip']=a_list[2].strip().split()[1]\n",
    "                    except:\n",
    "                        h['zip']=None\n",
    "\n",
    "\n",
    "                    header={\"content-type\": \"application/json\"}\n",
    "                    req=requests.get(OW_API_URL.format(zip=h['zip'],api_key=API_KEY),headers=header)\n",
    "\n",
    "                    json_loads=json.loads(req.text)\n",
    "\n",
    "                    try:\n",
    "                        h['lat']=float(json_loads['lat'])\n",
    "                        h['lon']=float(json_loads['lon'])\n",
    "                    except:\n",
    "                        h['lat']=None\n",
    "                        h['lon']=None\n",
    "\n",
    "\n",
    "\n",
    "\n",
    "                    l.append(h)\n",
    "                    h={}\n",
    "            break\n"
   ]
  },
  {
   "cell_type": "code",
   "execution_count": 10,
   "metadata": {},
   "outputs": [],
   "source": [
    "df=pd.DataFrame(l)"
   ]
  },
  {
   "attachments": {},
   "cell_type": "markdown",
   "metadata": {},
   "source": [
    "# Onwards and Upwards"
   ]
  },
  {
   "cell_type": "code",
   "execution_count": 11,
   "metadata": {},
   "outputs": [],
   "source": [
    "import time\n",
    "\n",
    "dict={'zillow_call':[],'structure_data':[],'openweather_call':[]}"
   ]
  },
  {
   "cell_type": "code",
   "execution_count": 12,
   "metadata": {},
   "outputs": [],
   "source": [
    "for i in range(0,100):\n",
    "\n",
    "    tic=time.perf_counter()\n",
    "    num_var=np.random.randint(100,1000)\n",
    "    num_var3=np.random.randint(10,100)\n",
    "    num_var2=num_var3%10\n",
    "    num_var4=np.random.randint(1000,10000)\n",
    "    num_var5=np.random.randint(100,1000)\n",
    "\n",
    "    _header={\"User-Agent\": f\"Mozilla/5.0 (X11; Linux x86_64) AppleWebKit/{num_var5}.36 (KHTML, like Gecko) Chrome/51.{num_var2}.2704.{num_var} Safari/537.{num_var3} OPR/38.0.{num_var4}.41\"}\n",
    "    _page_req=requests.get(ZILLOW_HOMES_URL.format(city=city.lower(),\n",
    "                                                    state=state.lower(),\n",
    "                                                    property_type='homes',\n",
    "                                                    page='2'),headers=_header)\n",
    "\n",
    "    _page_text = _page_req.text\n",
    "\n",
    "    page_soup=BeautifulSoup(_page_text,'html.parser')\n",
    "\n",
    "    toc=time.perf_counter()\n",
    "\n",
    "    dict['zillow_call'].append(toc-tic)"
   ]
  },
  {
   "cell_type": "code",
   "execution_count": 13,
   "metadata": {},
   "outputs": [],
   "source": [
    "for i in range(0,100):\n",
    "\n",
    "    tic=time.perf_counter()\n",
    "\n",
    "    homes = soup.find_all(HOME_HEADER_CLASS[0],HOME_HEADER_CLASS[1])\n",
    "\n",
    "    for home in homes:\n",
    "\n",
    "        p_list=home.find(HOME_PRICE_CLASS[0],HOME_PRICE_CLASS[1]).text\n",
    "        try:\n",
    "            h['price']=int(\"\".join(re.findall('(\\d+)',p_list)))\n",
    "        except:\n",
    "            h['price']=None\n",
    "\n",
    "\n",
    "        s_list=home.find(HOME_SPACE_CLASS[0],HOME_SPACE_CLASS[1])\n",
    "        try:\n",
    "            s_list_list = s_list.find_all('li')\n",
    "            for li_idx in range(len(s_list_list)):\n",
    "                li_identifier = s_list_list[li_idx].find('abbr')  \n",
    "                try:\n",
    "                    if re.findall(\"(bd)\", li_identifier.text)[0] == 'bd': \n",
    "                        h['bd'] = int(\"\".join(re.findall('(\\d+)', s_list_list[li_idx].text)))\n",
    "                except:\n",
    "                    pass\n",
    "            \n",
    "                try:\n",
    "                    if re.findall(\"(ba)\", li_identifier.text)[0] == 'ba':  \n",
    "                        h['ba'] = int(\"\".join(re.findall('(\\d+)', s_list_list[li_idx].text)))\n",
    "                except:\n",
    "                    pass\n",
    "                \n",
    "                try:\n",
    "                    if re.findall(\"(sqft)\", li_identifier.text)[0] == 'sqft':\n",
    "                        h['sqft'] = int(\"\".join(re.findall('(\\d+)', s_list_list[li_idx].text)))\n",
    "                except:\n",
    "                    pass\n",
    "        except:\n",
    "            pass\n",
    "\n",
    "\n",
    "        a_list=home.find(HOME_ADDRESS_CLASS[0],HOME_ADDRESS_CLASS[1]).text.split(\",\")\n",
    "        try:\n",
    "            h['address']=a_list[0].strip()\n",
    "        except:\n",
    "            h['address']=None\n",
    "        try:\n",
    "            h['city']=a_list[1].strip()\n",
    "        except:\n",
    "            h['city']=None\n",
    "        try:\n",
    "            h['state']=a_list[2].strip().split()[0]\n",
    "        except:\n",
    "            h['state']=None\n",
    "        try:\n",
    "            h['zip']=a_list[2].strip().split()[1]\n",
    "        except:\n",
    "            h['zip']=None\n",
    "\n",
    "    toc=time.perf_counter()\n",
    "\n",
    "    dict['structure_data'].append(toc-tic)"
   ]
  },
  {
   "cell_type": "code",
   "execution_count": 14,
   "metadata": {},
   "outputs": [],
   "source": [
    "for i in range(0,100):    \n",
    "    tic=time.perf_counter()\n",
    "\n",
    "    header={\"content-type\": \"application/json\"}\n",
    "    req=requests.get(OW_API_URL.format(zip=h['zip'],api_key=API_KEY),headers=header)\n",
    "\n",
    "    json_loads=json.loads(req.text)\n",
    "\n",
    "    try:\n",
    "        h['lat']=float(json_loads['lat'])\n",
    "        h['lon']=float(json_loads['lon'])\n",
    "    except:\n",
    "        h['lat']=None\n",
    "        h['lon']=None\n",
    "\n",
    "    toc=time.perf_counter()\n",
    "\n",
    "    dict['openweather_call'].append(toc-tic)"
   ]
  },
  {
   "cell_type": "code",
   "execution_count": 16,
   "metadata": {},
   "outputs": [
    {
     "name": "stdout",
     "output_type": "stream",
     "text": [
      "0.7635969180000011\n",
      "0.0033203840000001605\n",
      "0.10953269400000039\n"
     ]
    },
    {
     "data": {
      "text/plain": [
       "<AxesSubplot:>"
      ]
     },
     "execution_count": 16,
     "metadata": {},
     "output_type": "execute_result"
    },
    {
     "data": {
      "image/png": "[encoded data removed]",
      "text/plain": [
       "<Figure size 432x288 with 1 Axes>"
      ]
     },
     "metadata": {
      "needs_background": "light"
     },
     "output_type": "display_data"
    }
   ],
   "source": [
    "def mean(list):\n",
    "    mean=sum(list)/len(list)\n",
    "    return mean\n",
    "\n",
    "print(mean(dict['zillow_call']))\n",
    "print(mean(dict['structure_data']))\n",
    "print(mean(dict['openweather_call']))\n"
   ]
  },
  {
   "cell_type": "code",
   "execution_count": 47,
   "metadata": {},
   "outputs": [
    {
     "data": {
      "text/html": [
       "<div>\n",
       "<style scoped>\n",
       "    .dataframe tbody tr th:only-of-type {\n",
       "        vertical-align: middle;\n",
       "    }\n",
       "\n",
       "    .dataframe tbody tr th {\n",
       "        vertical-align: top;\n",
       "    }\n",
       "\n",
       "    .dataframe thead th {\n",
       "        text-align: right;\n",
       "    }\n",
       "</style>\n",
       "<table border=\"1\" class=\"dataframe\">\n",
       "  <thead>\n",
       "    <tr style=\"text-align: right;\">\n",
       "      <th></th>\n",
       "      <th>Zillow Webpage Call</th>\n",
       "      <th>Structuring the Data</th>\n",
       "      <th>Openweather API Call</th>\n",
       "    </tr>\n",
       "  </thead>\n",
       "  <tbody>\n",
       "    <tr>\n",
       "      <th>0</th>\n",
       "      <td>745.7972</td>\n",
       "      <td>4.6860</td>\n",
       "      <td>120.5403</td>\n",
       "    </tr>\n",
       "    <tr>\n",
       "      <th>1</th>\n",
       "      <td>842.0817</td>\n",
       "      <td>3.5495</td>\n",
       "      <td>106.8728</td>\n",
       "    </tr>\n",
       "    <tr>\n",
       "      <th>2</th>\n",
       "      <td>652.7575</td>\n",
       "      <td>3.4101</td>\n",
       "      <td>102.2536</td>\n",
       "    </tr>\n",
       "    <tr>\n",
       "      <th>3</th>\n",
       "      <td>706.0276</td>\n",
       "      <td>3.1337</td>\n",
       "      <td>102.4875</td>\n",
       "    </tr>\n",
       "    <tr>\n",
       "      <th>4</th>\n",
       "      <td>698.2002</td>\n",
       "      <td>3.2514</td>\n",
       "      <td>105.0181</td>\n",
       "    </tr>\n",
       "    <tr>\n",
       "      <th>...</th>\n",
       "      <td>...</td>\n",
       "      <td>...</td>\n",
       "      <td>...</td>\n",
       "    </tr>\n",
       "    <tr>\n",
       "      <th>95</th>\n",
       "      <td>596.1299</td>\n",
       "      <td>3.1235</td>\n",
       "      <td>118.0538</td>\n",
       "    </tr>\n",
       "    <tr>\n",
       "      <th>96</th>\n",
       "      <td>655.2533</td>\n",
       "      <td>3.9942</td>\n",
       "      <td>106.4741</td>\n",
       "    </tr>\n",
       "    <tr>\n",
       "      <th>97</th>\n",
       "      <td>614.1820</td>\n",
       "      <td>3.3673</td>\n",
       "      <td>107.7404</td>\n",
       "    </tr>\n",
       "    <tr>\n",
       "      <th>98</th>\n",
       "      <td>727.7686</td>\n",
       "      <td>3.1088</td>\n",
       "      <td>107.0657</td>\n",
       "    </tr>\n",
       "    <tr>\n",
       "      <th>99</th>\n",
       "      <td>910.1343</td>\n",
       "      <td>3.1674</td>\n",
       "      <td>103.7333</td>\n",
       "    </tr>\n",
       "  </tbody>\n",
       "</table>\n",
       "<p>100 rows × 3 columns</p>\n",
       "</div>"
      ],
      "text/plain": [
       "    Zillow Webpage Call  Structuring the Data  Openweather API Call\n",
       "0              745.7972                4.6860              120.5403\n",
       "1              842.0817                3.5495              106.8728\n",
       "2              652.7575                3.4101              102.2536\n",
       "3              706.0276                3.1337              102.4875\n",
       "4              698.2002                3.2514              105.0181\n",
       "..                  ...                   ...                   ...\n",
       "95             596.1299                3.1235              118.0538\n",
       "96             655.2533                3.9942              106.4741\n",
       "97             614.1820                3.3673              107.7404\n",
       "98             727.7686                3.1088              107.0657\n",
       "99             910.1343                3.1674              103.7333\n",
       "\n",
       "[100 rows x 3 columns]"
      ]
     },
     "execution_count": 47,
     "metadata": {},
     "output_type": "execute_result"
    }
   ],
   "source": [
    "df=pd.DataFrame({\"Zillow Webpage Call\":dict['zillow_call'],\"Structuring the Data\":dict['structure_data'],\"Openweather API Call\":dict['openweather_call']})\n",
    "\n",
    "\n",
    "df=df.apply(lambda x: x*1000)\n",
    "\n",
    "df"
   ]
  },
  {
   "cell_type": "code",
   "execution_count": 48,
   "metadata": {},
   "outputs": [
    {
     "name": "stderr",
     "output_type": "stream",
     "text": [
      "c:\\Users\\rsher\\anaconda3\\envs\\Python4DS-Clone\\lib\\site-packages\\seaborn\\categorical.py:1296: UserWarning: 40.0% of the points cannot be placed; you may want to decrease the size of the markers or use stripplot.\n",
      "  warnings.warn(msg, UserWarning)\n",
      "c:\\Users\\rsher\\anaconda3\\envs\\Python4DS-Clone\\lib\\site-packages\\seaborn\\categorical.py:1296: UserWarning: 83.0% of the points cannot be placed; you may want to decrease the size of the markers or use stripplot.\n",
      "  warnings.warn(msg, UserWarning)\n"
     ]
    },
    {
     "data": {
      "text/plain": [
       "<AxesSubplot:>"
      ]
     },
     "execution_count": 48,
     "metadata": {},
     "output_type": "execute_result"
    },
    {
     "data": {
      "image/png": "[encoded data removed]",
      "text/plain": [
       "<Figure size 432x288 with 1 Axes>"
      ]
     },
     "metadata": {
      "needs_background": "light"
     },
     "output_type": "display_data"
    }
   ],
   "source": [
    "sns.swarmplot(data=df)"
   ]
  },
  {
   "cell_type": "code",
   "execution_count": 49,
   "metadata": {},
   "outputs": [
    {
     "data": {
      "text/plain": [
       "<AxesSubplot:>"
      ]
     },
     "execution_count": 49,
     "metadata": {},
     "output_type": "execute_result"
    },
    {
     "data": {
      "image/png": "[encoded data removed]",
      "text/plain": [
       "<Figure size 432x288 with 1 Axes>"
      ]
     },
     "metadata": {
      "needs_background": "light"
     },
     "output_type": "display_data"
    }
   ],
   "source": [
    "sns.stripplot(data=df)"
   ]
  },
  {
   "cell_type": "code",
   "execution_count": 52,
   "metadata": {},
   "outputs": [],
   "source": [
    "df2=df\n",
    "\n",
    "df2['Openweather API Call']=df2['Openweather API Call'].apply(lambda x: x*9)"
   ]
  },
  {
   "cell_type": "code",
   "execution_count": 63,
   "metadata": {},
   "outputs": [],
   "source": [
    "df2=df2.drop(25,axis=0)"
   ]
  },
  {
   "cell_type": "code",
   "execution_count": 68,
   "metadata": {},
   "outputs": [
    {
     "name": "stderr",
     "output_type": "stream",
     "text": [
      "c:\\Users\\rsher\\anaconda3\\envs\\Python4DS-Clone\\lib\\site-packages\\seaborn\\categorical.py:1296: UserWarning: 82.8% of the points cannot be placed; you may want to decrease the size of the markers or use stripplot.\n",
      "  warnings.warn(msg, UserWarning)\n",
      "c:\\Users\\rsher\\anaconda3\\envs\\Python4DS-Clone\\lib\\site-packages\\seaborn\\categorical.py:1296: UserWarning: 30.3% of the points cannot be placed; you may want to decrease the size of the markers or use stripplot.\n",
      "  warnings.warn(msg, UserWarning)\n"
     ]
    },
    {
     "data": {
      "text/plain": [
       "<AxesSubplot:>"
      ]
     },
     "execution_count": 68,
     "metadata": {},
     "output_type": "execute_result"
    },
    {
     "data": {
      "image/png": "[encoded data removed]",
      "text/plain": [
       "<Figure size 432x288 with 1 Axes>"
      ]
     },
     "metadata": {
      "needs_background": "light"
     },
     "output_type": "display_data"
    }
   ],
   "source": [
    "sns.swarmplot(data=df2)"
   ]
  },
  {
   "cell_type": "code",
   "execution_count": 69,
   "metadata": {},
   "outputs": [
    {
     "data": {
      "text/plain": [
       "<AxesSubplot:>"
      ]
     },
     "execution_count": 69,
     "metadata": {},
     "output_type": "execute_result"
    },
    {
     "data": {
      "image/png": "[encoded data removed]",
      "text/plain": [
       "<Figure size 432x288 with 1 Axes>"
      ]
     },
     "metadata": {
      "needs_background": "light"
     },
     "output_type": "display_data"
    }
   ],
   "source": [
    "sns.stripplot(data=df2)"
   ]
  },
  {
   "attachments": {},
   "cell_type": "markdown",
   "metadata": {},
   "source": [
    "# Memoization"
   ]
  },
  {
   "cell_type": "code",
   "execution_count": null,
   "metadata": {},
   "outputs": [],
   "source": [
    "import functools\n",
    "import logging\n",
    "import time\n",
    "\n",
    "def mean(list):\n",
    "    mean=sum(list)/len(list)\n",
    "    return mean"
   ]
  },
  {
   "cell_type": "code",
   "execution_count": null,
   "metadata": {},
   "outputs": [],
   "source": [
    "memory = {}\n",
    "\n",
    "def memoize_zip_codes(func):\n",
    "    def wrapper(dict):\n",
    "        if dict['zip'] not in memory:\n",
    "            json_loads=func(dict) # CALL OW_api_call\n",
    "            try:\n",
    "                memory[dict['zip']]={'lat':json_loads['lat'],\"lon\":json_loads['lon']} # ADD NOVEL ZIP CODE TO memory\n",
    "            except:\n",
    "                pass\n",
    "        else:\n",
    "            dict['lat']=memory[dict['zip']]['lat'] # GET ZIP CODE COORDINATES FROM memory\n",
    "            dict['lon']=memory[dict['zip']]['lon']\n",
    "        return func\n",
    "    return wrapper"
   ]
  },
  {
   "cell_type": "code",
   "execution_count": null,
   "metadata": {},
   "outputs": [],
   "source": [
    "@memoize_zip_codes\n",
    "def OW_api_call(dict):\n",
    "    header={\"content-type\": \"application/json\"}\n",
    "    req=requests.get(OW_API_URL.format(zip=dict['zip'],api_key=API_KEY),headers=header)\n",
    "\n",
    "    json_loads=json.loads(req.text)\n",
    "\n",
    "    try:\n",
    "        dict['lat']=float(json_loads['lat'])\n",
    "        dict['lon']=float(json_loads['lon'])\n",
    "        \n",
    "\n",
    "    except:\n",
    "        dict['lat']=None\n",
    "        dict['lon']=None\n",
    "\n",
    "    return json_loads"
   ]
  },
  {
   "cell_type": "code",
   "execution_count": null,
   "metadata": {},
   "outputs": [],
   "source": [
    "l=[]\n",
    "h={}\n",
    "\n",
    "for city, state in city_states:  \n",
    "    while True:\n",
    "        num_var=np.random.randint(100,1000)\n",
    "        num_var3=np.random.randint(10,100)\n",
    "        num_var2=num_var3%10\n",
    "        num_var4=np.random.randint(1000,10000)\n",
    "        num_var5=np.random.randint(100,1000)\n",
    "\n",
    "        _header={\"User-Agent\": f\"Mozilla/5.0 (X11; Linux x86_64) AppleWebKit/{num_var5}.36 (KHTML, like Gecko) Chrome/51.{num_var2}.2704.{num_var} Safari/537.{num_var3} OPR/38.0.{num_var4}.41\"}\n",
    "        _page_req=requests.get(ZILLOW_HOMES_URL.format(city=city.lower(),\n",
    "                                                        state=state.lower(),\n",
    "                                                        property_type='homes',\n",
    "                                                        page='2'),headers=_header)\n",
    "\n",
    "        _page_text = _page_req.text\n",
    "\n",
    "        _page_soup=BeautifulSoup(_page_text,'html.parser')\n",
    "\n",
    "        try:\n",
    "            if _page_soup.find('div')['id']==ERROR_404_CONSTANT:\n",
    "                break\n",
    "        except:\n",
    "            pass\n",
    "        \n",
    "        if _page_soup.find('meta')['name']==BOT_CAUGHT_CONSTANT:\n",
    "            continue\n",
    "        else:\n",
    "            if _page_soup.find(HOME_PAGE_CLASS[0],HOME_PAGE_CLASS[1]) == None:\n",
    "                _page_max=1\n",
    "            else:\n",
    "                _target_text=_page_soup.find(HOME_PAGE_CLASS[0],HOME_PAGE_CLASS[1]).text\n",
    "\n",
    "                _page_max=int(re.findall('(\\d+)',_target_text)[1])\n",
    "            break\n",
    "\n",
    "\n",
    "    for p_idx in range(2,(_page_max+2)):\n",
    "        try:\n",
    "            if _page_soup.find('div')['id']==ERROR_404_CONSTANT:\n",
    "                break\n",
    "        except:\n",
    "                pass\n",
    "            \n",
    "        while True:\n",
    "            num_var=np.random.randint(100,1000)\n",
    "            num_var3=np.random.randint(10,100)\n",
    "            num_var2=num_var3%10\n",
    "            num_var4=np.random.randint(1000,10000)\n",
    "            num_var5=np.random.randint(100,1000)\n",
    "\n",
    "            header={\"User-Agent\": f\"Mozilla/5.0 (X11; Linux x86_64) AppleWebKit/{num_var5}.36 (KHTML, like Gecko) Chrome/51.{num_var2}.2704.{num_var} Safari/537.{num_var3} OPR/38.0.{num_var4}.41\"}\n",
    "            req = requests.get(ZILLOW_HOMES_URL.format(city=city.lower(),\n",
    "                                                        state=state.lower(),\n",
    "                                                        property_type='homes',\n",
    "                                                        page=p_idx),headers=header)\n",
    "            \n",
    "            r_text=req.text\n",
    "\n",
    "\n",
    "            soup = BeautifulSoup(r_text,'html.parser')\n",
    "\n",
    "\n",
    "            if soup.find('meta')['name']==BOT_CAUGHT_CONSTANT:\n",
    "                continue\n",
    "\n",
    "            else:\n",
    "\n",
    "                homes = soup.find_all(HOME_HEADER_CLASS[0],HOME_HEADER_CLASS[1])\n",
    "\n",
    "                for home in homes:\n",
    "\n",
    "                    p_list=home.find(HOME_PRICE_CLASS[0],HOME_PRICE_CLASS[1]).text\n",
    "                    try:\n",
    "                        h['price']=int(\"\".join(re.findall('(\\d+)',p_list)))\n",
    "                    except:\n",
    "                        h['price']=None\n",
    "\n",
    "\n",
    "                    s_list=home.find(HOME_SPACE_CLASS[0],HOME_SPACE_CLASS[1])\n",
    "                    try:\n",
    "                        s_list_list = s_list.find_all('li')\n",
    "                        for li_idx in range(len(s_list_list)):\n",
    "                            li_identifier = s_list_list[li_idx].find('abbr')  \n",
    "                            try:\n",
    "                                if re.findall(\"(bd)\", li_identifier.text)[0] == 'bd': \n",
    "                                    h['bd'] = int(\"\".join(re.findall('(\\d+)', s_list_list[li_idx].text)))\n",
    "                            except:\n",
    "                                pass\n",
    "                        \n",
    "                            try:\n",
    "                                if re.findall(\"(ba)\", li_identifier.text)[0] == 'ba':  \n",
    "                                    h['ba'] = int(\"\".join(re.findall('(\\d+)', s_list_list[li_idx].text)))\n",
    "                            except:\n",
    "                                pass\n",
    "                            \n",
    "                            try:\n",
    "                                if re.findall(\"(sqft)\", li_identifier.text)[0] == 'sqft':\n",
    "                                    h['sqft'] = int(\"\".join(re.findall('(\\d+)', s_list_list[li_idx].text)))\n",
    "                            except:\n",
    "                                pass\n",
    "                    except:\n",
    "                        pass\n",
    "\n",
    "\n",
    "                    a_list=home.find(HOME_ADDRESS_CLASS[0],HOME_ADDRESS_CLASS[1]).text.split(\",\")\n",
    "                    try:\n",
    "                        h['address']=a_list[0].strip()\n",
    "                    except:\n",
    "                        h['address']=None\n",
    "                    try:\n",
    "                        h['city']=a_list[1].strip()\n",
    "                    except:\n",
    "                        h['city']=None\n",
    "                    try:\n",
    "                        h['state']=a_list[2].strip().split()[0]\n",
    "                    except:\n",
    "                        h['state']=None\n",
    "                    try:\n",
    "                        h['zip']=a_list[2].strip().split()[1]\n",
    "                    except:\n",
    "                        h['zip']=None\n",
    "  \n",
    "\n",
    "                    OW_api_call(h)\n",
    "\n",
    "                    l.append(h)\n",
    "                    h={}\n",
    "            break"
   ]
  },
  {
   "cell_type": "code",
   "execution_count": null,
   "metadata": {},
   "outputs": [],
   "source": [
    "list=[]\n",
    "for i in range(0,100):\n",
    "    tic=time.perf_counter()\n",
    "    OW_api_call(l[0])\n",
    "    toc=time.perf_counter()\n",
    "\n",
    "    list.append(toc-tic)\n",
    "\n",
    "print(mean(list))"
   ]
  },
  {
   "attachments": {},
   "cell_type": "markdown",
   "metadata": {},
   "source": [
    "# Multi-Threading"
   ]
  },
  {
   "cell_type": "code",
   "execution_count": null,
   "metadata": {},
   "outputs": [],
   "source": [
    "import concurrent.futures\n",
    "import time"
   ]
  },
  {
   "cell_type": "code",
   "execution_count": null,
   "metadata": {},
   "outputs": [],
   "source": [
    "def modify(x):\n",
    "    x**=2\n",
    "    return x"
   ]
  },
  {
   "cell_type": "code",
   "execution_count": null,
   "metadata": {},
   "outputs": [],
   "source": [
    "# NON-IDLE PROGRAM WITHOUT MULTI-THREADING\n",
    "tic=time.perf_counter()\n",
    "\n",
    "tlist=[]\n",
    "\n",
    "for i in range(0,100):\n",
    "    i=modify(i)\n",
    "    tlist.append(i)\n",
    "\n",
    "toc=time.perf_counter()\n",
    "\n",
    "print(toc-tic)"
   ]
  },
  {
   "cell_type": "code",
   "execution_count": null,
   "metadata": {},
   "outputs": [],
   "source": [
    "# NON-IDLE PROGRAM WITH MULTI-THREADING\n",
    "tic=time.perf_counter()\n",
    "\n",
    "t2list=[]\n",
    "with concurrent.futures.ThreadPoolExecutor() as executor:\n",
    "    future=[executor.submit(modify,i) for i in range(0,100)]\n",
    "    for future in concurrent.futures.as_completed(future):\n",
    "        t2list.append(future.result())\n",
    "        \n",
    "\n",
    "toc=time.perf_counter()\n",
    "\n",
    "print(toc-tic)"
   ]
  },
  {
   "cell_type": "code",
   "execution_count": null,
   "metadata": {},
   "outputs": [],
   "source": [
    "def generate_urls(city_states,property_type:str,page_max_dict:dict=None):\n",
    "        urls=[]\n",
    "        for city,state in city_states:\n",
    "            try:\n",
    "                page_max=page_max_dict[(city,state)]\n",
    "            except:\n",
    "                page_max=1\n",
    "            for page in range(2,page_max+2):\n",
    "                urls.append(((city,state),ZILLOW_HOMES_URL.format(city=city.lower(),\n",
    "                                                    state=state.lower(),\n",
    "                                                    property_type=property_type,\n",
    "                                                    page=page)))\n",
    "        return urls"
   ]
  },
  {
   "cell_type": "code",
   "execution_count": null,
   "metadata": {},
   "outputs": [],
   "source": [
    "def get_soup(url):\n",
    "\n",
    "        while True:\n",
    "            num_var=np.random.randint(100,1000)\n",
    "            num_var3=np.random.randint(10,100)\n",
    "            num_var2=num_var3%10\n",
    "            num_var4=np.random.randint(1000,10000)\n",
    "            num_var5=np.random.randint(100,1000)\n",
    "\n",
    "            header={\"User-Agent\": f\"Mozilla/5.0 (X11; Linux x86_64) AppleWebKit/{num_var5}.36 (KHTML, like Gecko) Chrome/51.{num_var2}.2704.{num_var} Safari/537.{num_var3} OPR/38.0.{num_var4}.41\"}\n",
    "                \n",
    "            \n",
    "            req=requests.get(url,\n",
    "                        headers=header)\n",
    "\n",
    "            req_text=req.text\n",
    "\n",
    "            soup=BeautifulSoup(req_text,'html.parser')\n",
    "\n",
    "            # ERROR CHECKING GOES HERE ...\n",
    "            \n",
    "            break\n",
    "\n",
    "        return soup"
   ]
  },
  {
   "cell_type": "code",
   "execution_count": null,
   "metadata": {},
   "outputs": [],
   "source": [
    "def threaded_request(func,urls):\n",
    "        soups=[]\n",
    "\n",
    "        with concurrent.futures.ThreadPoolExecutor() as executor:\n",
    "            future_to_url = {executor.submit(func,url):\n",
    "                             city_state_tup for (city_state_tup,url) in urls\n",
    "                             }\n",
    "            for future in concurrent.futures.as_completed(future_to_url):\n",
    "                city_state_tup = future_to_url[future]\n",
    "                try:\n",
    "                    soups.append((city_state_tup,future.result()))\n",
    "                except:\n",
    "                    pass\n",
    "        return soups"
   ]
  },
  {
   "cell_type": "code",
   "execution_count": null,
   "metadata": {},
   "outputs": [],
   "source": [
    "tic=time.perf_counter()\n",
    "city_states=[('Houston','TX')]\n",
    "\n",
    "l=[]\n",
    "h={}\n",
    "page_max_dict={}\n",
    "\n",
    "\n",
    "page_max_urls = generate_urls(city_states,property_type='homes')\n",
    "\n",
    "page_max_soups = threaded_request(func=get_soup,urls=page_max_urls)\n",
    "\n",
    "for city_state_tup,soup in page_max_soups:\n",
    "    if soup.find(HOME_PAGE_CLASS[0],HOME_PAGE_CLASS[1])==None:\n",
    "        page_max_dict[city_state_tup]=1\n",
    "\n",
    "    else:\n",
    "        target_text=soup.find(HOME_PAGE_CLASS[0],HOME_PAGE_CLASS[1]).text\n",
    "\n",
    "        page_max_dict[city_state_tup]=int(re.findall('(\\d+)',_target_text)[1])\n",
    "\n",
    "\n",
    "\n",
    "\n",
    "main_urls=generate_urls(city_states=city_states,property_type='homes',page_max_dict=page_max_dict)\n",
    "      \n",
    "\n",
    "main_soups=threaded_request(func=get_soup,urls=main_urls)\n",
    "\n",
    "for city_state_tup,soup in main_soups:\n",
    "    homes = soup.find_all(HOME_HEADER_CLASS[0],HOME_HEADER_CLASS[1])\n",
    "\n",
    "    for home in homes:\n",
    "\n",
    "        p_list=home.find(HOME_PRICE_CLASS[0],HOME_PRICE_CLASS[1]).text\n",
    "        try:\n",
    "            h['price']=int(\"\".join(re.findall('(\\d+)',p_list)))\n",
    "        except:\n",
    "            h['price']=None\n",
    "\n",
    "\n",
    "        s_list=home.find(HOME_SPACE_CLASS[0],HOME_SPACE_CLASS[1])\n",
    "        try:\n",
    "            s_list_list = s_list.find_all('li')\n",
    "            for li_idx in range(len(s_list_list)):\n",
    "                li_identifier = s_list_list[li_idx].find('abbr')  \n",
    "                try:\n",
    "                    if re.findall(\"(bd)\", li_identifier.text)[0] == 'bd': \n",
    "                        h['bd'] = int(\"\".join(re.findall('(\\d+)', s_list_list[li_idx].text)))\n",
    "                except:\n",
    "                    pass\n",
    "            \n",
    "                try:\n",
    "                    if re.findall(\"(ba)\", li_identifier.text)[0] == 'ba':  \n",
    "                        h['ba'] = int(\"\".join(re.findall('(\\d+)', s_list_list[li_idx].text)))\n",
    "                except:\n",
    "                    pass\n",
    "                \n",
    "                try:\n",
    "                    if re.findall(\"(sqft)\", li_identifier.text)[0] == 'sqft':\n",
    "                        h['sqft'] = int(\"\".join(re.findall('(\\d+)', s_list_list[li_idx].text)))\n",
    "                except:\n",
    "                    pass\n",
    "        except:\n",
    "            pass\n",
    "\n",
    "\n",
    "        a_list=home.find(HOME_ADDRESS_CLASS[0],HOME_ADDRESS_CLASS[1]).text.split(\",\")\n",
    "        try:\n",
    "            h['address']=a_list[0].strip()\n",
    "        except:\n",
    "            h['address']=None\n",
    "        try:\n",
    "            h['city']=a_list[1].strip()\n",
    "        except:\n",
    "            h['city']=None\n",
    "        try:\n",
    "            h['state']=a_list[2].strip().split()[0]\n",
    "        except:\n",
    "            h['state']=None\n",
    "        try:\n",
    "            h['zip']=a_list[2].strip().split()[1]\n",
    "        except:\n",
    "            h['zip']=None\n",
    "\n",
    "\n",
    "        OW_api_call(h)\n",
    "\n",
    "        l.append(h)\n",
    "        h={}\n",
    "toc=time.perf_counter()\n",
    "\n",
    "print(toc-tic)"
   ]
  }
 ],
 "metadata": {
  "kernelspec": {
   "display_name": "scrape_env",
   "language": "python",
   "name": "python3"
  },
  "language_info": {
   "codemirror_mode": {
    "name": "ipython",
    "version": 3
   },
   "file_extension": ".py",
   "mimetype": "text/x-python",
   "name": "python",
   "nbconvert_exporter": "python",
   "pygments_lexer": "ipython3",
   "version": "3.9.12"
  },
  "orig_nbformat": 4,
  "vscode": {
   "interpreter": {
    "hash": "757b6ebce34926fd3f085c6fb2e5ec387b09d83a5ad4de95ec50463c150f98ea"
   }
  }
 },
 "nbformat": 4,
 "nbformat_minor": 2
}
